{
 "cells": [
  {
   "cell_type": "code",
   "execution_count": null,
   "metadata": {},
   "outputs": [],
   "source": [
    "import requests\n",
    "import json\n",
    "import pandas as pd\n",
    "import numpy as np"
   ]
  },
  {
   "cell_type": "code",
   "execution_count": null,
   "metadata": {},
   "outputs": [],
   "source": [
    "class API():\n",
    "\n",
    "    def __init__(self,url,token=0):\n",
    "        self.token  = token\n",
    "        self.url = url\n",
    "\n",
    "    def set_key(self, api_key):\n",
    "        self.token = api_key\n",
    "        \n",
    "\n",
    "    def get_request(self,year):\n",
    "        formatted_url = self.url.format(year=year)\n",
    "        params= {\n",
    "            'app_key':self.token\n",
    "            }\n",
    "\n",
    "\n",
    "        response = requests.get(formatted_url, params = params)\n",
    "\n",
    "        if self.token:\n",
    "            if (response.status_code==200):\n",
    "                data = pd.DataFrame(response.json())\n"
   ]
  },
  {
   "cell_type": "code",
   "execution_count": null,
   "metadata": {},
   "outputs": [],
   "source": []
  }
 ],
 "metadata": {
  "language_info": {
   "name": "python"
  },
  "orig_nbformat": 4
 },
 "nbformat": 4,
 "nbformat_minor": 2
}
